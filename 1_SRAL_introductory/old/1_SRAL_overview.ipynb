{
 "cells": [
  {
   "cell_type": "markdown",
   "metadata": {},
   "source": [
    "<img src='./img/EU-Copernicus-EUM_3Logos.png' alt='Logo EU Copernicus EUMETSAT' align='right' width='50%'></img>"
   ]
  },
  {
   "cell_type": "markdown",
   "metadata": {},
   "source": [
    "<a href=\"environment_setup/EUMETlab_environment.ipynb\"><< Setting up a Python Environment</a><span style=\"float:right;\"><a href=\"./1_SRAL_data_access.ipynb\">2 - SRAL data access >></a> "
   ]
  },
  {
   "cell_type": "markdown",
   "metadata": {},
   "source": [
    "## 1. SAR radar altimeter (SRAL) Instrument - Overview \n"
   ]
  },
  {
   "cell_type": "markdown",
   "metadata": {},
   "source": [
    "The SAR radar altimeter (SRAL) is the primary instrument that supports altimetry measurements from the Sentinel-3 satellite mission. As well as SRAL, each Sentinel-3 satellite has a microwave radiometer (MWR), and a Precise Orbital Determination (POD) instrument suite including the Global Navigation by Satellite System (GNSS), Doppler Orbitography by Radio-positioning Integrated by Satellite (DORIS), and a Laser RetroReflector (LRR).\n",
    "\n",
    "Combined these instruments provide measurements of the height of the oceans which can be used to derive information on sea-level, ice, waves, and wind. \n",
    "\n",
    "Altimetry data is a major contributor towards the record of global sea level - an essential climate variable for the monitoring of sea level rise.\n",
    "\n",
    "The height of the sea can also give insight in to the physical dynamics of ocean circulation - allowing for observation of currents, eddies, and other features.\n",
    "\n",
    "At the event scale, information on wind, ice, and waves, provided by altimetry contributes towards management of safety at sea, directly and through assimilation in to ocean models.\n",
    "\n",
    "SRAL and its supporting instruments are just one altimetry mission that helps measure our global oceans - Jason-3, Sentinel-6 and others provide increased coverage and a continious time series of measurements.\n",
    "\n",
    "Further information on the sensor and its data can be found at [http://sral.eumetsat.int](http://sral.eumetsat.int)"
   ]
  },
  {
   "cell_type": "markdown",
   "metadata": {},
   "source": [
    "### Accessing SRAL data\n",
    "\n",
    "There are several options when it comes to downloading Sentinel-3 SRAL data. The options you choose will depend on when the data you are interested in were captured and/or reprocessed. You can find more information about OLCI data access and reprocessing [here](https://www.eumetsat.int/sral-processing-baselines). The access points are described briefly below.\n",
    "\n",
    "* EUMETView ([more info](https://view.eumetsat.int))\n",
    "* Copernicus Online Data Access - CODA ([more info](https://www.eumetsat.int/website/home/Data/DataDelivery/CopernicusOnlineDataAccess/index.html))\n",
    "* EUMETSAT Data Centre ([more info](https://www.eumetsat.int/website/home/Data/DataDelivery/EUMETSATDataCentre/index.html))\n",
    "* Reprocessed data - CODAREP ([more info](https://codarep.eumetsat.int))\n",
    "\n",
    "* WEkEO - A Copernicus Data Information and Access Service coordinated by EUMETSAT, ECMWF, and Mercator Ocean. Through WEkEO you can access a variety of Copernicus data through the Harmonised Data Access API, and a variety of hosted processing resources including a JupyterLab and virtual machines. ([more info](https://wekeo.eu))\n",
    "\n",
    "\n",
    "The next notebook in this tutorial series (<a href=\"./2_SRAL_data_access.ipynb\">2 - SRAL data access</a>) will show you how to download data from these services, that can be used in the exercise notebooks within this repository. "
   ]
  },
  {
   "cell_type": "markdown",
   "metadata": {},
   "source": [
    "### Exercises\n",
    "\n",
    "Other notebooks in this repository will walk you through several exercises that will cover :\n",
    "\n",
    " * [Understanding the contents of SRAL data files, and what the data looks like](./3_SRAL_Tracks.ipynb)\n",
    " * [How SRAL data can be used to calculate sea level anomalies](./4_SRAL_SLAs.ipynb)\n",
    " * [How SRAL waveforms give us information that is used to calculate geophysical variables](./5_SRAL_waveforms.ipynb)\n",
    " \n",
    " \n",
    " \n",
    "### Further workflows using SRAL data\n",
    " \n",
    "EUMETSAT has developed further notebooks and Python code tools that will support your use of SRAL data. If you are attending a training course, you may find these repositories as submodules that have been shared with you already, alternatively you can find them on our public gitlab.\n",
    " \n",
    " * Ocean case studies\n",
    " * SNAP ocean workflows \n",
    " \n",
    " Data from SRAK are also used by the Copernicus Marine Environment Monitoring Service (CMEMS). Depending on your application, you may find the downstream data products including data from SRAL (and other altimeters) fit your needs. If you are attending a training course, you may find the introductory CMEMS exercises in the 'learn-cmems' submodule. Alternativing, it is available on the EUMETSAT public gitlab at the link below.\n",
    " \n",
    " * Learn CMEMS\n",
    " \n"
   ]
  },
  {
   "cell_type": "markdown",
   "metadata": {},
   "source": [
    "<a href=\"environment_setup/EUMETlab_environment.ipynb\"><< Setting up a Python Environment</a><span style=\"float:right;\"><a href=\"./1_SRAL_data_access.ipynb\">2 - SRAL data access >></a> \n",
    "    \n",
    "<a href=\"https://gitlab.eumetsat.int/eumetlab/ocean\">View on GitLab</a> | <a href=\"https://training.eumetsat.int/\">EUMETSAT Training</a> | <a href=mailto:ops@eumetsat.int>Contact helpdesk for support </a> | <a href=mailto:Copernicus.training@eumetsat.int>Contact our training team to collaborate on and reuse this material</a></span></p>\n",
    "    "
   ]
  }
 ],
 "metadata": {
  "kernelspec": {
   "display_name": "Python 3",
   "language": "python",
   "name": "python3"
  },
  "language_info": {
   "codemirror_mode": {
    "name": "ipython",
    "version": 3
   },
   "file_extension": ".py",
   "mimetype": "text/x-python",
   "name": "python",
   "nbconvert_exporter": "python",
   "pygments_lexer": "ipython3",
   "version": "3.6.12"
  }
 },
 "nbformat": 4,
 "nbformat_minor": 2
}
