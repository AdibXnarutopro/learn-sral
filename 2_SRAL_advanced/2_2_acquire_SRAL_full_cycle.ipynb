{
 "cells": [
  {
   "cell_type": "markdown",
   "metadata": {},
   "source": [
    "<img src='https://gitlab.eumetsat.int/eumetlab/oceans/ocean-training/tools/frameworks/-/raw/main/img/Standard_banner.png' align='right' width='100%'/>"
   ]
  },
  {
   "cell_type": "markdown",
   "metadata": {},
   "source": [
    "<a href=\"../Index.ipynb\" target=\"_blank\"><< Index</a>\n",
    "<br>\n",
    "<a href=\"./2_1_SRAL_advanced_data_access_eumdac.ipynb\" target=\"_blank\"><< Advanced SRAL data access with the EUMDAC client</a>"
   ]
  },
  {
   "cell_type": "markdown",
   "metadata": {},
   "source": [
    "<font color=\"#138D75\">**Copernicus Marine Training Service**</font> <br>\n",
    "**Copyright:** 2023 EUMETSAT <br>\n",
    "**License:** MIT <br>\n",
    "**Authors:** Ben Loveday (EUMETSAT/Innoflair UG), Hayley Evers-King (EUMETSAT), Vinca Rosmorduc (CLS)"
   ]
  },
  {
   "cell_type": "markdown",
   "metadata": {},
   "source": [
    "<html>\n",
    "  <div style=\"width:100%\">\n",
    "    <div style=\"float:left\"><a href=\"https://mybinder.org/v2/git/https%3A%2F%2Fgitlab.eumetsat.int%2Feumetlab%2Foceans%2Focean-training%2Fsensors%2Flearn-sral/HEAD?urlpath=%2Ftree%2F2_SRAL_advanced%2F2_2_acquire_SRAL_full_cycle.ipynb\"><img src=\"https://mybinder.org/badge_logo.svg\" alt=\"Open in Binder\"></a></div>\n",
    "    <div style=\"float:left\"><p>&emsp;</p></div>\n",
    "  </div>\n",
    "</html>"
   ]
  },
  {
   "cell_type": "markdown",
   "metadata": {},
   "source": [
    "<div class=\"alert alert-block alert-success\">\n",
    "<h3>Learn SRAL: Advanced</h3></div>"
   ]
  },
  {
   "cell_type": "markdown",
   "metadata": {},
   "source": [
    "<div class=\"alert alert-block alert-warning\">\n",
    "    \n",
    "<b>PREREQUISITES </b>\n",
    "    \n",
    "Users should review the following notebooks for more information on setting up a credentials files for using the eumdac python library to retrieve SRAL data from the Data Store:\n",
    "    \n",
    "- **<a href=\"../1_SRAL_introductory/1_1_SRAL_data_access_HDA_Data_Store.ipynb\">1_1_SRAL_data_access_HDA_Data_Store.ipynb</a>**\n",
    "\n",
    "</div>\n",
    "<hr>"
   ]
  },
  {
   "cell_type": "markdown",
   "metadata": {},
   "source": [
    "# 2.2 Acquiring a full SRAL cycle\n",
    "\n",
    "### Data used\n",
    "\n",
    "\n",
    "| Product Description  | Data Store collection ID| Product Navigator | WEkEO HDA ID | WEkEO metadata |\n",
    "|:--------------------:|:-----------------------:|:-------------:|:-----------------:|:--------:|\n",
    "| Sentinel-3 SRAL level-2 | EO:EUM:DAT:0415 | <a href=\"https://navigator.eumetsat.int/product/EO:EUM:DAT:SENTINEL-3:SR_2_WAT___NTC?query=SRAL&s=advanced\" target=\"_blank\">link</a> | EO:EUM:DAT:SENTINEL-3:SR_2_WAT___ | <a href=\"https://www.wekeo.eu/data?view=dataset&dataset=EO%3AEUM%3ADAT%3ASENTINEL-3%3ASR_2_WAT___\" target=\"_blank\">link</a>|\n",
    "\n",
    "### Learning outcomes\n",
    "\n",
    "At the end of this notebook you will know;\n",
    "* <font color=\"#138D75\">**Search**</font> for a time series of L2 SRAL data for a given cycle number using the EUMETSAT Data Store API client (`eumdac`)\n",
    "* <font color=\"#138D75\">**Download**</font> this time series\n",
    "\n",
    "### Outline\n",
    "\n",
    "The EUMETSAT Data Store offers many ways to interact with data in order to refine searches. Many of these methods are supported by the EUMETSAT Data Access Client (`eumdac`). In this notebook we will showcase some of the possibilities for using `eumdac` to better interact with SRAL collections. This notebook assumes that you already have an understanding of the available Data Store interfaces, which you can gain by running the **<a href=\"../1_SRAL_introductory/1_1_SRAL_data_access_HDA_Data_Store.ipynb\">1_1_SRAL_data_access_HDA_Data_Store</a>** notebook.\n",
    "\n",
    "\n",
    "<div class=\"alert alert-info\" role=\"alert\">\n",
    "\n",
    "## <a id='TOC-TOP'></a>Contents\n",
    "\n",
    "</div>\n",
    "    \n",
    "1. [Step 1: Authenticating the API](#section1)\n",
    "1. [Step 2: Creating a search by collection](#section2)\n",
    "1. [Step 3: Filtering by cycle number](#section3)\n",
    "1. [Step 4: Filtering by timeliness](#section4)\n",
    "1. [Step 5: Removing NTC duplicates](#section5)\n",
    "1. [Step 6: Downloading the data](#section6)\n",
    "\n",
    "<hr>"
   ]
  },
  {
   "cell_type": "markdown",
   "metadata": {},
   "source": [
    "We begin by importing all of the libraries that we need to run this notebook. If you have built your python using the environment file provided in this repository, then you should have everything you need. For more information on building environment, please see the repository **<a href=\"../README.md\" target=\"_blank\">README</a>**."
   ]
  },
  {
   "cell_type": "code",
   "execution_count": 1,
   "metadata": {},
   "outputs": [],
   "source": [
    "import os        # a library that allows us access to basic operating system commands\n",
    "import json      # a library that helps us make JSON format files\n",
    "import datetime  # a libary that allows us to work with dates and times\n",
    "import shutil    # a library that allows us access to basic operating system commands like copy\n",
    "import zipfile   # a library that allows us to unzip zip-files.\n",
    "import eumdac    # a tool that helps us download via the eumetsat/data-store"
   ]
  },
  {
   "cell_type": "markdown",
   "metadata": {},
   "source": [
    "Next we will create a download directory to store the products we will download in this notebook."
   ]
  },
  {
   "cell_type": "code",
   "execution_count": 2,
   "metadata": {},
   "outputs": [],
   "source": [
    "download_dir = os.path.join(os.getcwd(), \"products\")\n",
    "os.makedirs(download_dir, exist_ok=True)"
   ]
  },
  {
   "cell_type": "markdown",
   "metadata": {},
   "source": [
    "<div class=\"alert alert-info\" role=\"alert\">\n",
    "\n",
    "## <a id='section1'></a>Step 1: Authenticating the API\n",
    "[Back to top](#TOC-TOP)\n",
    "\n",
    "</div>"
   ]
  },
  {
   "cell_type": "markdown",
   "metadata": {},
   "source": [
    "Before we use the Data Store to download data, we must first authenticate our access and retrieve an access token. More **essential** information on setting this up can be found in the **<a href=\"../1_OLCI_introductory/1_1_SRAL_data_access_HDA_Data_Store.ipynb\">1_1_SRAL_data_access_HDA_Data_Store</a>** notebook."
   ]
  },
  {
   "cell_type": "code",
   "execution_count": 3,
   "metadata": {},
   "outputs": [
    {
     "name": "stdout",
     "output_type": "stream",
     "text": [
      "This token '0125bcd1-2012-30b9-a646-eca993a5f2f0' expires 2023-07-05 12:11:50.615168\n"
     ]
    }
   ],
   "source": [
    "# load credentials\n",
    "with open(os.path.join(os.path.expanduser(\"~\"),'.eumdac_credentials')) as json_file:\n",
    "    credentials = json.load(json_file)\n",
    "    token = eumdac.AccessToken((credentials['consumer_key'], credentials['consumer_secret']))\n",
    "    print(f\"This token '{token}' expires {token.expiration}\")\n",
    "\n",
    "# create data store object\n",
    "datastore = eumdac.DataStore(token)"
   ]
  },
  {
   "cell_type": "markdown",
   "metadata": {},
   "source": [
    "<div class=\"alert alert-info\" role=\"alert\">\n",
    "\n",
    "## <a id='section2'></a>Step 2: Creating a search by collection\n",
    "[Back to top](#TOC-TOP)\n",
    "\n",
    "</div>"
   ]
  },
  {
   "cell_type": "markdown",
   "metadata": {},
   "source": [
    "We will work with the SRAL Level-2 data throughout this notebook. The collection ID for this data type is `EO:EUM:DAT:0415`. You can find this information on the Data Store (https://data.eumetsat.int/), or ask the `eumdac` client to tell you all the avaiable collections by calling the `eumdac.DataStore(token).collections` method."
   ]
  },
  {
   "cell_type": "code",
   "execution_count": 4,
   "metadata": {},
   "outputs": [],
   "source": [
    "# set collection ID for SRAL L2\n",
    "collectionID = 'EO:EUM:DAT:0415'\n",
    "cycle = 80"
   ]
  },
  {
   "cell_type": "markdown",
   "metadata": {},
   "source": [
    "To filter by collection, we simply provide the collectionID to the `datastore.get_collection method`"
   ]
  },
  {
   "cell_type": "code",
   "execution_count": 5,
   "metadata": {},
   "outputs": [
    {
     "name": "stdout",
     "output_type": "stream",
     "text": [
      "SRAL Level 2 Altimetry Global - Sentinel-3\n",
      "---\n",
      "The products contain the typical altimetry measurements, like the altimeter range, the sea surface height, the wind speed, significant wave height and all required geophysical corrections and related flags. Also the sea Ice freeboard measurement is included. The measurements in the standard data file provide the measurements in low (1 Hz = approx. 7km) and high resolution (20 Hz = approx. 300 m), in LRM mode or in SAR mode, for both C-band and Ku band. The SAR mode is the default mode. The reduced measurement data file contains 1 Hz measurements only. The enhanced measurement data file contains also the waveforms and associated parameters and the pseudo LRM measurements when in SAR mode. This product contains the following datasets: Sea Level Global(NRT) (PDS_MG3_CORE_14_GLONRT), Sea Level Global Reduced(NRT)(PDS_MG3_CORE_14_GLONRT_RD), Sea Level Global Standard(NRT) (PDS_MG3_CORE_14_GLONRT_SD), Sea Level Global Enhanced(NRT) (PDS_MG3_CORE_14_GLONRT_EN) - All Sentinel-3 NRT products are available at pick-up point in less than 3h. - All Sentinel-3 Non Time Critical (NTC) products are available at pick-up point in less than 30 days - All Sentinel-3 Short Time Critical (STC) products are available at pick-up point in less than 48 hours Sentinel-3 is part of a series of Sentinel satellites, under the umbrella of the EU Copernicus programme. \n"
     ]
    }
   ],
   "source": [
    "# Use collection ID\n",
    "selected_collection = datastore.get_collection(collectionID)\n",
    "print(f\"{selected_collection.title}\\n---\\n{selected_collection.abstract}\")"
   ]
  },
  {
   "cell_type": "markdown",
   "metadata": {},
   "source": [
    "<div class=\"alert alert-info\" role=\"alert\">\n",
    "\n",
    "## <a id='section3'></a>Step 3: Filtering by cycle number\n",
    "[Back to top](#TOC-TOP)\n",
    "\n",
    "</div>"
   ]
  },
  {
   "cell_type": "markdown",
   "metadata": {},
   "source": [
    "Now that we have our collection we can search within it using the cycle number to filter the results, as follows;"
   ]
  },
  {
   "cell_type": "code",
   "execution_count": 6,
   "metadata": {},
   "outputs": [
    {
     "name": "stdout",
     "output_type": "stream",
     "text": [
      "Found 4847 products\n"
     ]
    }
   ],
   "source": [
    "products = selected_collection.search(\n",
    "    cycle=cycle)\n",
    "print(f\"Found {len(products)} products\")"
   ]
  },
  {
   "cell_type": "markdown",
   "metadata": {},
   "source": [
    "<div class=\"alert alert-info\" role=\"alert\">\n",
    "\n",
    "## <a id='section4'></a>Step 4: Filtering by timeliness\n",
    "[Back to top](#TOC-TOP)\n",
    "\n",
    "</div>"
   ]
  },
  {
   "cell_type": "markdown",
   "metadata": {},
   "source": [
    "In this instance, we are only interested in Non Time-Critical (NTC) SRAL products. We can add this filter to our search as follows."
   ]
  },
  {
   "cell_type": "code",
   "execution_count": 7,
   "metadata": {},
   "outputs": [
    {
     "name": "stdout",
     "output_type": "stream",
     "text": [
      "Found 1221 products\n"
     ]
    }
   ],
   "source": [
    "products = selected_collection.search(\n",
    "    cycle=cycle,\n",
    "    timeliness=\"NT\")\n",
    "print(f\"Found {len(products)} products\")"
   ]
  },
  {
   "cell_type": "markdown",
   "metadata": {},
   "source": [
    "<div class=\"alert alert-info\" role=\"alert\">\n",
    "\n",
    "## <a id='section5'></a>Step 5: Removing NTC duplicates\n",
    "[Back to top](#TOC-TOP)\n",
    "\n",
    "</div>"
   ]
  },
  {
   "cell_type": "markdown",
   "metadata": {},
   "source": [
    "Sometimes, during NTC processing, we have to revisit some granules to process them further. This is typically due to missing ancillary data that we have to wait for. In this case, we first pass and final pass products are both on the system. We only want the latter, final, product, which always has a later time. The box below will filter for the latest options only, taking advantage of the Data Stores default to show most recent products first."
   ]
  },
  {
   "cell_type": "code",
   "execution_count": 8,
   "metadata": {},
   "outputs": [
    {
     "name": "stdout",
     "output_type": "stream",
     "text": [
      "Found 1221 products\n"
     ]
    }
   ],
   "source": [
    "processed_list = []\n",
    "final_products = []\n",
    "for product in products:\n",
    "    file_tags = str(product).split('_')\n",
    "    file_tags = [i for i in file_tags if i]\n",
    "    granule_start = file_tags[4]\n",
    "    if granule_start not in processed_list:\n",
    "        final_products.append(product)\n",
    "        processed_list.append(granule_start)\n",
    "        \n",
    "print(f\"Found {len(final_products)} products\")"
   ]
  },
  {
   "cell_type": "markdown",
   "metadata": {},
   "source": [
    "<div class=\"alert alert-info\" role=\"alert\">\n",
    "\n",
    "## <a id='section6'></a>Step 6: Downloading the products\n",
    "[Back to top](#TOC-TOP)\n",
    "\n",
    "</div>"
   ]
  },
  {
   "cell_type": "markdown",
   "metadata": {},
   "source": [
    "We have now narrowed our search to a the required products. We can now download them using the code below to write them into our specified directory and unzip them."
   ]
  },
  {
   "cell_type": "code",
   "execution_count": 9,
   "metadata": {},
   "outputs": [
    {
     "name": "stdout",
     "output_type": "stream",
     "text": [
      "Download 0: S3B_SR_2_WAT____20230609T144142_20230609T152607_20230705T090059_2665_080_224______MAR_O_NT_005.SEN3\n",
      "Downloading S3B_SR_2_WAT____20230609T144142_20230609T152607_20230705T090059_2665_080_224______MAR_O_NT_005.SEN3.zip.\n",
      "Download of product S3B_SR_2_WAT____20230609T144142_20230609T152607_20230705T090059_2665_080_224______MAR_O_NT_005.SEN3.zip finished.\n",
      "Unzipping of product /Users/benloveday/Code/Git_Reps/CMTS/internal/sensors/learn-sral/2_SRAL_advanced/products/S3B_SR_2_WAT____20230609T144142_20230609T152607_20230705T090059_2665_080_224______MAR_O_NT_005.SEN3.zip finished.\n",
      "Download 1: S3B_SR_2_WAT____20230609T134509_20230609T143213_20230705T075446_2824_080_224______MAR_O_NT_005.SEN3\n",
      "Downloading S3B_SR_2_WAT____20230609T134509_20230609T143213_20230705T075446_2824_080_224______MAR_O_NT_005.SEN3.zip.\n",
      "Download of product S3B_SR_2_WAT____20230609T134509_20230609T143213_20230705T075446_2824_080_224______MAR_O_NT_005.SEN3.zip finished.\n",
      "Unzipping of product /Users/benloveday/Code/Git_Reps/CMTS/internal/sensors/learn-sral/2_SRAL_advanced/products/S3B_SR_2_WAT____20230609T134509_20230609T143213_20230705T075446_2824_080_224______MAR_O_NT_005.SEN3.zip finished.\n",
      "Download 2: S3B_SR_2_WAT____20230609T125646_20230609T134508_20230705T064914_2902_080_223______MAR_O_NT_005.SEN3\n",
      "Downloading S3B_SR_2_WAT____20230609T125646_20230609T134508_20230705T064914_2902_080_223______MAR_O_NT_005.SEN3.zip.\n",
      "Download of product S3B_SR_2_WAT____20230609T125646_20230609T134508_20230705T064914_2902_080_223______MAR_O_NT_005.SEN3.zip finished.\n",
      "Unzipping of product /Users/benloveday/Code/Git_Reps/CMTS/internal/sensors/learn-sral/2_SRAL_advanced/products/S3B_SR_2_WAT____20230609T125646_20230609T134508_20230705T064914_2902_080_223______MAR_O_NT_005.SEN3.zip finished.\n",
      "Download 3: S3B_SR_2_WAT____20230609T120410_20230609T125039_20230705T064012_2789_080_223______MAR_O_NT_005.SEN3\n",
      "Downloading S3B_SR_2_WAT____20230609T120410_20230609T125039_20230705T064012_2789_080_223______MAR_O_NT_005.SEN3.zip.\n",
      "Download of product S3B_SR_2_WAT____20230609T120410_20230609T125039_20230705T064012_2789_080_223______MAR_O_NT_005.SEN3.zip finished.\n",
      "Unzipping of product /Users/benloveday/Code/Git_Reps/CMTS/internal/sensors/learn-sral/2_SRAL_advanced/products/S3B_SR_2_WAT____20230609T120410_20230609T125039_20230705T064012_2789_080_223______MAR_O_NT_005.SEN3.zip finished.\n",
      "Download 4: S3B_SR_2_WAT____20230609T111621_20230609T120409_20230705T055220_2868_080_222______MAR_O_NT_005.SEN3\n",
      "Downloading S3B_SR_2_WAT____20230609T111621_20230609T120409_20230705T055220_2868_080_222______MAR_O_NT_005.SEN3.zip.\n",
      "Download of product S3B_SR_2_WAT____20230609T111621_20230609T120409_20230705T055220_2868_080_222______MAR_O_NT_005.SEN3.zip finished.\n",
      "Unzipping of product /Users/benloveday/Code/Git_Reps/CMTS/internal/sensors/learn-sral/2_SRAL_advanced/products/S3B_SR_2_WAT____20230609T111621_20230609T120409_20230705T055220_2868_080_222______MAR_O_NT_005.SEN3.zip finished.\n"
     ]
    }
   ],
   "source": [
    "max_products = 5\n",
    "for final_product, count in zip(final_products, range(len(final_products))):\n",
    "    if count >= max_products:\n",
    "        continue\n",
    "    print(f\"Download {count}: {final_product}\")\n",
    "    with final_product.open() as fsrc, open(os.path.join(download_dir, fsrc.name), mode='wb') as fdst:\n",
    "        print(f'Downloading {fsrc.name}.')\n",
    "        shutil.copyfileobj(fsrc, fdst)\n",
    "        print(f'Download of product {fsrc.name} finished.')\n",
    "\n",
    "    with zipfile.ZipFile(fdst.name, 'r') as zip_ref:\n",
    "        for file in zip_ref.namelist():\n",
    "            if file.startswith(str(final_product)):\n",
    "                zip_ref.extract(file, download_dir)\n",
    "        print(f'Unzipping of product {fdst.name} finished.')\n",
    "\n",
    "    os.remove(fdst.name)"
   ]
  },
  {
   "cell_type": "markdown",
   "metadata": {},
   "source": [
    "<div class=\"alert alert-block alert-warning\">\n",
    "\n",
    "### Challenge:\n",
    "\n",
    "Now you have run this for acquiring the SRAL L2 data using the cycle number, can you adapt it for other orbital parameters?"
   ]
  },
  {
   "cell_type": "markdown",
   "metadata": {},
   "source": [
    "<a href=\"../Index.ipynb\" target=\"_blank\"><< Index</a>\n",
    "<br>\n",
    "<a href=\"./2_1_SRAL_advanced_data_access_eumdac.ipynb\" target=\"_blank\"><< Advanced SRAL data access with the EUMDAC client</a>\n",
    "<hr>\n",
    "<a href=\"https://gitlab.eumetsat.int/eumetlab/ocean\" target=\"_blank\">View on GitLab</a> | <a href=\"https://training.eumetsat.int/\" target=\"_blank\">EUMETSAT Training</a> | <a href=mailto:ops@eumetsat.int target=\"_blank\">Contact helpdesk for support </a> | <a href=mailto:Copernicus.training@eumetsat.int target=\"_blank\">Contact our training team to collaborate on and reuse this material</a></span></p>"
   ]
  }
 ],
 "metadata": {
  "author": "Ben Loveday, Hayley Evers-King, Vinca Rosmorduc",
  "description": "This Jupyter Notebook shows how to access a full cycle of Sentinel-3 SAR Radar Altimeter (SRAL) data via the EUMETSAT Data Store.",
  "image": "../img/thumbs/2_1_SRAL_advanced_data_access_eumdac_thumb.png",
  "kernelspec": {
   "display_name": "Python 3 (ipykernel)",
   "language": "python",
   "name": "python3"
  },
  "language_info": {
   "codemirror_mode": {
    "name": "ipython",
    "version": 3
   },
   "file_extension": ".py",
   "mimetype": "text/x-python",
   "name": "python",
   "nbconvert_exporter": "python",
   "pygments_lexer": "ipython3",
   "version": "3.9.16"
  },
  "services": {
   "eumetsat": {
    "binder": {
     "link": "https://mybinder.org/v2/git/https%3A%2F%2Fgitlab.eumetsat.int%2Feumetlab%2Foceans%2Focean-training%2Fsensors%2Flearn-sral/HEAD?urlpath=%2Ftree%2F2_SRAL_advanced%2F2_1_SRAL_advanced_data_access_eumdac.ipynb",
     "service_contact": "ops@eumetsat.int",
     "service_provider": "EUMETSAT"
    },
    "git": {
     "link": "https://gitlab.eumetsat.int/eumetlab/oceans/ocean-training/sensors/learn-sral/-/blob/main/2_SRAL_advanced/2_1_SRAL_advanced_data_access_eumdac.ipynb",
     "service_contact": "ops@eumetsat.int",
     "service_provider": "EUMETSAT"
    }
   },
   "wekeo": {
    "git": {
     "link": "",
     "service_contact": "ops@eumetsat.int",
     "service_provider": "EUMETSAT"
    },
    "url": {
     "link": "",
     "service_contact": "ops@eumetsat.int",
     "service_provider": "EUMETSAT"
    }
   }
  },
  "tags": {
   "domain": "Marine",
   "platform": [
    "Sentinel-3"
   ],
   "sensor": "SRAL",
   "service": "EUMETSAT",
   "subtheme": [
    "Maritime safety",
    "Oceans and climate",
    "Ocean fluxes"
   ],
   "tags": [
    "Sea surface height",
    "Significant wave height",
    "Wind speed",
    "Altimetry waveforms"
   ]
  },
  "title": "Accessing a SRAL full cycle via EUMETSAT Data Store"
 },
 "nbformat": 4,
 "nbformat_minor": 4
}
