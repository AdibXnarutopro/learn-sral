{
 "cells": [
  {
   "cell_type": "markdown",
   "metadata": {},
   "source": [
    "<img src='https://gitlab.eumetsat.int/eumetlab/oceans/ocean-training/tools/frameworks/-/raw/main/img/Standard_banner.png' align='right' width='100%'/>"
   ]
  },
  {
   "cell_type": "markdown",
   "metadata": {},
   "source": [
    "<a href=\"../Index.ipynb\" target=\"_blank\"><< Index</a>\n",
    "<br>\n",
    "<a href=\"./2_1_SRAL_advanced_data_access_eumdac.ipynb\" target=\"_blank\"><< Advanced SRAL data access with the EUMDAC client</a>"
   ]
  },
  {
   "cell_type": "markdown",
   "metadata": {},
   "source": [
    "<font color=\"#138D75\">**Copernicus Marine Training Service**</font> <br>\n",
    "**Copyright:** 2022 EUMETSAT <br>\n",
    "**License:** MIT"
   ]
  },
  {
   "cell_type": "markdown",
   "metadata": {},
   "source": [
    "<div class=\"alert alert-block alert-success\">\n",
    "<h3>Learn SRAL: Advanced</h3></div>"
   ]
  },
  {
   "cell_type": "markdown",
   "metadata": {},
   "source": [
    "<div class=\"alert alert-block alert-warning\">\n",
    "    \n",
    "<b>PREREQUISITES </b>\n",
    "    \n",
    "Users should review the following notebooks for more information on setting up a credentials files for using the eumdac python library to retrieve SRAL data from the Data Store:\n",
    "    \n",
    "- **<a href=\"../1_SRAL_introductory/1_1_SRAL_data_access_HDA_Data_Store.ipynb\">1_1_SRAL_data_access_HDA_Data_Store.ipynb</a>**\n",
    "\n",
    "</div>\n",
    "<hr>"
   ]
  },
  {
   "cell_type": "markdown",
   "metadata": {},
   "source": [
    "# 2.2 Acquiring a full SRAL cycle\n",
    "\n",
    "### Data used\n",
    "\n",
    "\n",
    "| Product Description  | Data Store collection ID| Product Navigator | WEkEO HDA ID | WEkEO metadata |\n",
    "|:--------------------:|:-----------------------:|:-------------:|:-----------------:|:--------:|\n",
    "| Sentinel-3 SRAL level-2 | EO:EUM:DAT:0415 | <a href=\"https://navigator.eumetsat.int/product/EO:EUM:DAT:SENTINEL-3:SR_2_WAT___NTC?query=SRAL&s=advanced\" target=\"_blank\">link</a> | EO:EUM:DAT:SENTINEL-3:SR_2_WAT___ | <a href=\"https://www.wekeo.eu/data?view=dataset&dataset=EO%3AEUM%3ADAT%3ASENTINEL-3%3ASR_2_WAT___\" target=\"_blank\">link</a>|\n",
    "\n",
    "### Learning outcomes\n",
    "\n",
    "At the end of this notebook you will know;\n",
    "* <font color=\"#138D75\">**Search**</font> for a time series of L2 SRAL data for a given cycle number using the EUMETSAT Data Store API client (`eumdac`)\n",
    "* <font color=\"#138D75\">**Download**</font> this time series\n",
    "\n",
    "### Outline\n",
    "\n",
    "The EUMETSAT Data Store offers many ways to interact with data in order to refine searches. Many of these methods are supported by the EUMETSAT Data Access Client (`eumdac`). In this notebook we will showcase some of the possibilities for using `eumdac` to better interact with SRAL collections. This notebook assumes that you already have an understanding of the available Data Store interfaces, which you can gain by running the **<a href=\"../1_SRAL_introductory/1_1_SRAL_data_access_HDA_Data_Store.ipynb\">1_1_SRAL_data_access_HDA_Data_Store</a>** notebook.\n",
    "\n",
    "\n",
    "<div class=\"alert alert-info\" role=\"alert\">\n",
    "\n",
    "## <a id='TOC_TOP'></a>Contents\n",
    "\n",
    "</div>\n",
    "    \n",
    "1. [Step 1: Authenticating the API](#section1)\n",
    "1. [Step 2: Creating a search by collection](#section2)\n",
    "1. [Step 3: Filtering by cycle number](#section3)\n",
    "1. [Step 4: Filtering by timeliness](#section4)\n",
    "1. [Step 5: Removing NTC duplicates](#section5)\n",
    "1. [Step 6: Downloading the data](#section6)\n",
    "\n",
    "<hr>"
   ]
  },
  {
   "cell_type": "code",
   "execution_count": null,
   "metadata": {},
   "outputs": [],
   "source": [
    "import os\n",
    "import json\n",
    "import datetime\n",
    "import shutil\n",
    "import eumdac\n",
    "import zipfile\n",
    "\n",
    "# Create a download directory for our SLSTR products\n",
    "download_dir = os.path.join(os.getcwd(), \"products\")\n",
    "os.makedirs(download_dir, exist_ok=True)"
   ]
  },
  {
   "cell_type": "markdown",
   "metadata": {},
   "source": [
    "<div class=\"alert alert-info\" role=\"alert\">\n",
    "\n",
    "## <a id='section1'></a>Step 1: Authenticating the API\n",
    "[Back to top](#TOC_TOP)\n",
    "\n",
    "</div>"
   ]
  },
  {
   "cell_type": "markdown",
   "metadata": {},
   "source": [
    "Before we use the Data Store to download data, we must first authenticate our access and retrieve an access token. More **essential** information on setting this up can be found in the **<a href=\"../1_OLCI_introductory/1_1_SRAL_data_access_HDA_Data_Store.ipynb\">1_1_SRAL_data_access_HDA_Data_Store</a>** notebook."
   ]
  },
  {
   "cell_type": "code",
   "execution_count": null,
   "metadata": {},
   "outputs": [],
   "source": [
    "# load credentials\n",
    "with open(os.path.join(os.path.expanduser(\"~\"),'.eumdac_credentials')) as json_file:\n",
    "    credentials = json.load(json_file)\n",
    "    token = eumdac.AccessToken((credentials['consumer_key'], credentials['consumer_secret']))\n",
    "    print(f\"This token '{token}' expires {token.expiration}\")\n",
    "\n",
    "# create data store object\n",
    "datastore = eumdac.DataStore(token)"
   ]
  },
  {
   "cell_type": "markdown",
   "metadata": {},
   "source": [
    "<div class=\"alert alert-info\" role=\"alert\">\n",
    "\n",
    "## <a id='section2'></a>Step 2: Creating a search by collection\n",
    "[Back to top](#TOC_TOP)\n",
    "\n",
    "</div>"
   ]
  },
  {
   "cell_type": "markdown",
   "metadata": {},
   "source": [
    "We will work with the SRAL Level-2 data throughout this notebook. The collection ID for this data type is `EO:EUM:DAT:0415`. You can find this information on the Data Store (https://data.eumetsat.int/), or ask the `eumdac` client to tell you all the avaiable collections by calling the `eumdac.DataStore(token).collections` method."
   ]
  },
  {
   "cell_type": "code",
   "execution_count": null,
   "metadata": {},
   "outputs": [],
   "source": [
    "# set collection ID for SRAL L2\n",
    "collectionID = 'EO:EUM:DAT:0415'\n",
    "cycle = 80"
   ]
  },
  {
   "cell_type": "markdown",
   "metadata": {},
   "source": [
    "To filter by collection, we simply provide the collectionID to the `datastore.get_collection method`"
   ]
  },
  {
   "cell_type": "code",
   "execution_count": null,
   "metadata": {},
   "outputs": [],
   "source": [
    "# Use collection ID\n",
    "selected_collection = datastore.get_collection(collectionID)\n",
    "print(f\"{selected_collection.title}\\n---\\n{selected_collection.abstract}\")"
   ]
  },
  {
   "cell_type": "markdown",
   "metadata": {},
   "source": [
    "<div class=\"alert alert-info\" role=\"alert\">\n",
    "\n",
    "## <a id='section3'></a>Step 3: Filtering by cycle number\n",
    "[Back to top](#TOC_TOP)\n",
    "\n",
    "</div>"
   ]
  },
  {
   "cell_type": "markdown",
   "metadata": {},
   "source": [
    "Now that we have our collection we can search within it using the cycle number to filter the results, as follows;"
   ]
  },
  {
   "cell_type": "code",
   "execution_count": null,
   "metadata": {},
   "outputs": [],
   "source": [
    "products = selected_collection.search(\n",
    "    cycle=cycle)\n",
    "print(f\"Found {len(products)} products\")"
   ]
  },
  {
   "cell_type": "markdown",
   "metadata": {},
   "source": [
    "<div class=\"alert alert-info\" role=\"alert\">\n",
    "\n",
    "## <a id='section4'></a>Step 4: Filtering by timeliness\n",
    "[Back to top](#TOC_TOP)\n",
    "\n",
    "</div>"
   ]
  },
  {
   "cell_type": "markdown",
   "metadata": {},
   "source": [
    "In this instance, we are only interested in Non Time-Critical (NTC) SRAL products. We can add this filter to our search as follows."
   ]
  },
  {
   "cell_type": "code",
   "execution_count": null,
   "metadata": {},
   "outputs": [],
   "source": [
    "products = selected_collection.search(\n",
    "    cycle=cycle,\n",
    "    timeliness=\"NT\")\n",
    "print(f\"Found {len(products)} products\")"
   ]
  },
  {
   "cell_type": "markdown",
   "metadata": {},
   "source": [
    "<div class=\"alert alert-info\" role=\"alert\">\n",
    "\n",
    "## <a id='section5'></a>Step 5: Removing NTC duplicates\n",
    "[Back to top](#TOC_TOP)\n",
    "\n",
    "</div>"
   ]
  },
  {
   "cell_type": "markdown",
   "metadata": {},
   "source": [
    "Sometimes, during NTC processing, we have to revisit some granules to process them further. This is typically due to missing ancillary data that we have to wait for. In this case, we first pass and final pass products are both on the system. We only want the latter, final, product, which always has a later time. The box below will filter for the latest options only, taking advantage of the Data Stores default to show most recent products first."
   ]
  },
  {
   "cell_type": "code",
   "execution_count": null,
   "metadata": {
    "scrolled": false
   },
   "outputs": [],
   "source": [
    "processed_list = []\n",
    "final_products = []\n",
    "for product in products:\n",
    "    file_tags = str(product).split('_')\n",
    "    file_tags = [i for i in file_tags if i]\n",
    "    granule_start = file_tags[4]\n",
    "    if granule_start not in processed_list:\n",
    "        final_products.append(product)\n",
    "        processed_list.append(granule_start)\n",
    "        \n",
    "print(f\"Found {len(final_products)} products\")"
   ]
  },
  {
   "cell_type": "markdown",
   "metadata": {},
   "source": [
    "<div class=\"alert alert-info\" role=\"alert\">\n",
    "\n",
    "## <a id='section6'></a>Step 6: Downloading the products\n",
    "[Back to top](#TOC_TOP)\n",
    "\n",
    "</div>"
   ]
  },
  {
   "cell_type": "markdown",
   "metadata": {},
   "source": [
    "We have now narrowed our search to a the required products. We can now download them using the code below to write them into our specified directory and unzip them."
   ]
  },
  {
   "cell_type": "code",
   "execution_count": null,
   "metadata": {
    "scrolled": false
   },
   "outputs": [],
   "source": [
    "max_products = 5\n",
    "for final_product, count in zip(final_products, range(len(final_products))):\n",
    "    if count >= max_products:\n",
    "        continue\n",
    "    print(f\"Download {count}: {final_product}\")\n",
    "    with final_product.open() as fsrc, open(os.path.join(download_dir, fsrc.name), mode='wb') as fdst:\n",
    "        print(f'Downloading {fsrc.name}.')\n",
    "        shutil.copyfileobj(fsrc, fdst)\n",
    "        print(f'Download of product {fsrc.name} finished.')\n",
    "\n",
    "    with zipfile.ZipFile(fdst.name, 'r') as zip_ref:\n",
    "        for file in zip_ref.namelist():\n",
    "            if file.startswith(str(final_product)):\n",
    "                zip_ref.extract(file, download_dir)\n",
    "        print(f'Unzipping of product {fdst.name} finished.')\n",
    "\n",
    "    os.remove(fdst.name)"
   ]
  },
  {
   "cell_type": "markdown",
   "metadata": {},
   "source": [
    "<div class=\"alert alert-block alert-warning\">\n",
    "\n",
    "### Challenge:\n",
    "\n",
    "Now you have run this for acquiring the SRAL L2 data using the cycle number, can you adapt it for other orbital parameters?"
   ]
  },
  {
   "cell_type": "markdown",
   "metadata": {},
   "source": [
    "<a href=\"../Index.ipynb\" target=\"_blank\"><< Index</a>\n",
    "<br>\n",
    "<a href=\"./2_1_SRAL_advanced_data_access_eumdac.ipynb\" target=\"_blank\"><< Advanced SRAL data access with the EUMDAC client</a>\n",
    "<hr>\n",
    "<a href=\"https://gitlab.eumetsat.int/eumetlab/ocean\">View on GitLab</a> | <a href=\"https://training.eumetsat.int/\">EUMETSAT Training</a> | <a href=mailto:ops@eumetsat.int>Contact helpdesk for support </a> | <a href=mailto:Copernicus.training@eumetsat.int>Contact our training team to collaborate on and reuse this material</a></span></p>"
   ]
  }
 ],
 "metadata": {
  "author": "Ben Loveday, Hayley Evers-King",
  "description": "This Jupyter Notebook covers advanced access to OLCI data via the EUMETSAT Data Store.",
  "github": "",
  "image": "../img/thumbs/2_1_OLCI_advanced_data_access_eumdac_thumb.png",
  "kernelspec": {
   "display_name": "Python 3 (ipykernel)",
   "language": "python",
   "name": "python3"
  },
  "language_info": {
   "codemirror_mode": {
    "name": "ipython",
    "version": 3
   },
   "file_extension": ".py",
   "mimetype": "text/x-python",
   "name": "python",
   "nbconvert_exporter": "python",
   "pygments_lexer": "ipython3",
   "version": "3.9.13"
  },
  "link": "",
  "tags": {
   "domain": "Ocean",
   "platform": "Sentinel-3",
   "sensor": "OLCI",
   "tags": [
    "Top-of-atmosphere radiance",
    "Water leaving reflectance",
    "Ocean colour"
   ]
  },
  "title": "OLCI advanced data access via the EUMETSAT Data Store"
 },
 "nbformat": 4,
 "nbformat_minor": 2
}
