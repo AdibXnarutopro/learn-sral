{
 "cells": [
  {
   "cell_type": "markdown",
   "metadata": {
    "Collapsed": "false",
    "editable": true,
    "slideshow": {
     "slide_type": ""
    },
    "tags": []
   },
   "source": [
    "<img src='https://gitlab.eumetsat.int/eumetlab/oceans/ocean-training/tools/frameworks/-/raw/main/img/Standard_banner.png' align='right' width='100%'/>"
   ]
  },
  {
   "cell_type": "markdown",
   "metadata": {},
   "source": [
    "<font color=\"#138D75\">**Copernicus Marine Training Service**</font> <br>\n",
    "**Copyright:** 2024 European Union <br>\n",
    "**License:** MIT <br>\n",
    "**Authors:** Ben Loveday (EUMETSAT/Innoflair UG), Hayley Evers-King (EUMETSAT), Vinca Rosmorduc (CLS)"
   ]
  },
  {
   "cell_type": "markdown",
   "metadata": {},
   "source": [
    "<html>\n",
    "   <div style=\"float:left\"><p>&emsp;</p></div>\n",
    "   <div style=\"float:left\"><a href=\"https://gitlab.eumetsat.int/eumetlab/oceans/ocean-training/sensors/learn-sral\"><img src=\"https://img.shields.io/badge/open-EUMETLAB-E67E22.svg\"></a></div>\n",
    "   <div style=\"float:left\"><p>&emsp;</p></div>\n",
    "   <div style=\"float:left\"><a href=\"https://user.eumetsat.int/data/themes/marine\"><img src=\"https://img.shields.io/badge/open-USER PORTAL-154360.svg\"></a></div>\n",
    "   <div style=\"float:left\"><p>&emsp;</p></div>\n",
    "   <div style=\"float:left\"><a href=\"https://mybinder.org/v2/git/https%3A%2F%2Fgitlab.eumetsat.int%2Feumetlab%2Foceans%2Focean-training%2Fsensors%2Flearn-sral/HEAD?labpath=Index.ipynb\"><img src=\"https://mybinder.org/badge_logo.svg\"></a></div>\n",
    "   <div style=\"float:left\"><p>&emsp;</p></div>\n",
    "   <div style=\"float:left\"><a href=\"https://jupyterhub.prod.wekeo2.eu/hub/user-redirect/lab/tree/public/wekeo4oceans/learn-sral/Index.ipynb\"><img src=\"https://img.shields.io/badge/launch-WEKEO-1a4696.svg\"></a></div>\n",
    "   <div style=\"float:left\"><p>&emsp;</p></div>\n",
    "   <div style=\"float:left\"><a href=\"https://code.insula.destine.eu/hub/\"><img src=\"https://img.shields.io/badge/launch-DestinE-f43fd3.svg\"></a></div></div>\n",
    "</html>"
   ]
  },
  {
   "cell_type": "markdown",
   "metadata": {},
   "source": [
    "<div class=\"alert alert-block alert-success\">\n",
    "<h3>Learn SRAL</h3></div>\n",
    "<hr>"
   ]
  },
  {
   "cell_type": "markdown",
   "metadata": {
    "Collapsed": "false"
   },
   "source": [
    "# Index for the learn-SRAL module\n",
    "\n",
    "### About SRAL\n",
    "\n",
    "The Sentinel-3 altimetry (or surface topography) missions, uses radar altimetry, supported by a suite of other measurements, to provide measures of the height of the Earth's surfaces. This includes the ocean, where Sentinel-3 altimetry data is used to derive products relating to sea surface height, wind, and waves. In combination with other altimeters, the Sentinel-3 altimetry missions provides insight in to ocean physics, and vital inputs for weather forecasting.\n",
    "\n",
    "The SAR Radar Altimeter (SRAL) emits burts of electromagnetic radiation in the *c* and *ku* radar bands, and subsequently records the patterns of their waveforms as they are reflected from the surface of the Earth. These waveforms give us invaluable information about the sea-surface topography. In SAR mode, SRAL provides an along track resolution of 300m resolution, at 1Hz and 20Hz frequency.\n",
    "\n",
    "Further information on the sensor and its data can be found in the Sentinel-3 section of the <a href=\"https://user.eumetsat.int/data/satellites/sentinel-3\" target=\"_blank\">EUMETSAT User Portal</a>.\n",
    "<hr>\n",
    "\n",
    "### Module outline\n",
    "\n",
    "The **learn-sral** module consists of a collection of Python-based Jupyter notebooks designed to demonstrate the capability of the SAR Radar Altimeter (SRAL), carried by the Sentinel-3 satellites, and to help users begin to work with its data at level-1 and level-2. The module will introduce you to:\n",
    "\n",
    "* the specifics of the SRAL sensor\n",
    "* the ways in which you can access SRAL data\n",
    "* the parameters that SRAL provides at level-1 and level-2\n",
    "* approaches to working with SRAL data in common use cases\n",
    "\n",
    "<hr>\n",
    "\n",
    "### How to use this material\n",
    "\n",
    "This module is based around a series of <a href=\"https://jupyter.org/\" target=\"_blank\">Jupyter Notebooks</a>. These support high-level interactive learning by allowing us to combine code, text descriptions and data visualisations. If you have not worked with Jupyter Notebooks before, please look at the\n",
    "\n",
    "<a href=\"./working-with-python/Intro_to_Python_and_Jupyter.ipynb\" target=\"_blank\">Introduction to Python and Project Jupyter</a> module to get a short introduction to their usage and benefits. Refer to this module's **README** for further information on how to set up Jupyter.\n",
    "\n",
    "This module is split in to two parts, designed for:\n",
    "* <font color=\"#229954\">**introductory users**</font>, who have basic knowledge of Python and are new to using SRAL data\n",
    "* <font color=\"#DC7633\">**advanced users**</font>, who may be looking into more advanced use cases for the data.\n",
    "\n",
    "There is a suggested order in which to access the notebooks, and pre-requisites where applicable are listed at the top of each notebook. However, not all notebooks may be relevant for every user, so we have tried to make each one as self contained as possible.\n",
    "\n",
    "<hr>\n",
    "\n",
    "### Learning outcomes\n",
    "\n",
    "From this module, you can expect to learn:\n",
    "* How to access SRAL data from both the EUMETSAT data services, and WEkEO\n",
    "* The general file structure of SRAL products, and how to read them using Python\n",
    "* How SRAL captures waveforms, and how these are used to derive geophysical products\n",
    "* How to visualise SRAL data products, applying appropriate flags and quality levels\n",
    "* The limitations and uncertainties associated with SRAL products\n",
    "\n",
    "<hr>"
   ]
  },
  {
   "cell_type": "markdown",
   "metadata": {},
   "source": [
    "<div class=\"alert alert-info\" role=\"alert\">\n",
    "\n",
    "## <a id='TOC-TOP'></a>Contents\n",
    "\n",
    "</div>\n",
    "\n",
    "This modules offers notebooks for introductory and advanced uses of SRAL data.\n",
    "\n",
    "<h3>SRAL <font color=\"#229954\"> introductory</font> notebooks.</h3>\n",
    "\n",
    "These resources will introduce you to the fundamentals of SRAL<br>\n",
    " *  <a href=\"./1_SRAL_introductory/1_1a_SRAL_data_access_Data_Store.ipynb\" target=\"_blank\">1.1a Accessing SRAL data from the EUMETSAT Data Store</a>\n",
    " *  <a href=\"./1_SRAL_introductory/1_1b_SRAL_data_access_HDA.ipynb\" target=\"_blank\">1.1b Accessing SRAL data using the WEKEO HDA adaptor</a>\n",
    " *  <a href=\"./1_SRAL_introductory/1_2_SRAL_file_structure.ipynb\" target=\"_blank\">1.2 Understanding SRAL product structure</a>\n",
    " *  <a href=\"./1_SRAL_introductory/1_3_SRAL_coverage.ipynb\" target=\"_blank\">1.3 Determining SRAL product coverage</a>\n",
    " *  <a href=\"./1_SRAL_introductory/1_4_SRAL_tracks.ipynb\" target=\"_blank\">1.4 SRAL tracks</a>\n",
    " *  <a href=\"./1_SRAL_introductory/1_5_SRAL_waveforms.ipynb\" target=\"_blank\">1.5 SRAL waveforms</a>\n",
    " *  <a href=\"./1_SRAL_introductory/1_6_SRAL_SSHA.ipynb\" target=\"_blank\">1.6 SRAL sea surface height anomalies</a>\n",
    " *  <a href=\"./1_SRAL_introductory/1_7_SRAL_SWH.ipynb\" target=\"_blank\">1.7 SRAL significant wave height</a>\n",
    " *  <a href=\"./1_SRAL_introductory/1_8_SRAL_WS.ipynb\" target=\"_blank\">1.8 SRAL wind speed</a>\n",
    " * more coming soon...\n",
    " \n",
    "<h3>SRAL <font color=\"#DC7633\"> advanced</font> notebooks</h3>\n",
    " \n",
    " These resources build on the fundamentals, covering more advanced uses of SRAL.<br>\n",
    " *  <a href=\"./2_SRAL_advanced/2_1_SRAL_advanced_data_access_eumdac.ipynb\" target=\"_blank\">2.1 Advanced SRAL data access with the EUMDAC client</a>\n",
    " *  <a href=\"./2_SRAL_advanced/2_2_acquire_SRAL_full_cycle.ipynb\" target=\"_blank\">2.2 Acquiring a full SRAL cycle</a>\n",
    " * more coming soon..."
   ]
  },
  {
   "cell_type": "markdown",
   "metadata": {},
   "source": [
    "<hr>\n",
    "<a href=\"https://gitlab.eumetsat.int/eumetlab/ocean\" target=\"_blank\">View on GitLab</a> | <a href=\"https://training.eumetsat.int/\" target=\"_blank\">EUMETSAT Training</a> | <a href=mailto:ops@eumetsat.int target=\"_blank\">Contact helpdesk for support </a> | <a href=mailto:training@eumetsat.int target=\"_blank\">Contact our training team to collaborate on and reuse this material</a></span></p>"
   ]
  }
 ],
 "metadata": {
  "author": "Ben Loveday, Hayley Evers-King, Vinca Rosmorduc",
  "content_type": "Software & code",
  "data_access": [
   "Data Store",
   "WEkEO"
  ],
  "deployment": {
   "eumetsat": {
    "binder": {
     "link": "https://mybinder.org/v2/git/https%3A%2F%2Fgitlab.eumetsat.int%2Feumetlab%2Foceans%2Focean-training%2Fsensors%2Flearn-sral/HEAD?labpath=Index.ipynb",
     "service_contact": "ops@eumetsat.int",
     "service_provider": "EUMETSAT"
    },
    "git": {
     "link": "https://gitlab.eumetsat.int/eumetlab/oceans/ocean-training/sensors/learn-sral/-/blob/main/Index.ipynb",
     "service_contact": "ops@eumetsat.int",
     "service_provider": "EUMETSAT"
    }
   },
   "wekeo": {
    "git": {
     "link": "https://github.com/wekeo/learn-sral/blob/main/Index.ipynb",
     "service_contact": "ops@eumetsat.int",
     "service_provider": "EUMETSAT"
    },
    "url": {
     "link": "https://jupyterhub.prod.wekeo2.eu/hub/user-redirect/lab/tree/public/wekeo4oceans/learn-sral/Index.ipynb",
     "service_contact": "ops@eumetsat.int",
     "service_provider": "EUMETSAT"
    }
   }
  },
  "description": "This repository provides guidance on working with Sentinel-3 altimetry data",
  "image": "./img/thumbs/Index_thumb.png",
  "kernelspec": {
   "display_name": "Python 3 (ipykernel)",
   "language": "python",
   "name": "python3"
  },
  "language_info": {
   "codemirror_mode": {
    "name": "ipython",
    "version": 3
   },
   "file_extension": ".py",
   "mimetype": "text/x-python",
   "name": "python",
   "nbconvert_exporter": "python",
   "pygments_lexer": "ipython3",
   "version": "3.10.16"
  },
  "license": "MIT",
  "metadata_schema_version": "2.0.0",
  "originator": "EUMETSAT",
  "tags": {
   "data_provider": "EUMETSAT",
   "orbit": "",
   "satellite": "Sentinel-3",
   "sensor": "SRAL (Sentinel-3)",
   "service": "Altimetry",
   "subtheme": [
    "Maritime safety",
    "Climate system monitoring - Ocean",
    "Ocean dynamics"
   ],
   "theme": "Marine",
   "variable": [
    "Sea surface height",
    "Significant wave height",
    "Wind speed",
    "Altimetry waveforms"
   ]
  },
  "title": "Welcome to the EUMETSAT learn-sral GitLab repository",
  "version": "2.0.0",
  "version_date": "2024-07-01"
 },
 "nbformat": 4,
 "nbformat_minor": 4
}
