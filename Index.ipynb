{
 "cells": [
  {
   "cell_type": "markdown",
   "metadata": {
    "Collapsed": "false"
   },
   "source": [
    "<img src='./frameworks/img/EU-Copernicus-EUM-WEKEO_banner_logo.png' align='right' width='75%'/>"
   ]
  },
  {
   "cell_type": "markdown",
   "metadata": {},
   "source": [
    "<font color=\"#138D75\">**Copernicus Marine Training Service**</font> <br>\n",
    "**Copyright:** 2022 EUMETSAT <br>\n",
    "**License:** MIT"
   ]
  },
  {
   "cell_type": "markdown",
   "metadata": {},
   "source": [
    "<div class=\"alert alert-block alert-success\">\n",
    "<h3>Learn SRAL</h3></div>"
   ]
  },
  {
   "cell_type": "markdown",
   "metadata": {
    "Collapsed": "false"
   },
   "source": [
    "# Index for the learn-SRAL module\n",
    "\n",
    "### About SRAL\n",
    "\n",
    "<font color=\"#A93226\">UPDATE SECTION!</font>\n",
    "    \n",
    "The SAR Radar Altimeter (SRAL) provides ..... \n",
    "\n",
    "spectral information on the colour of the oceans. This data can be used to monitor global ocean primary production by phytoplankton, the basis of nearly all life in our seas.\n",
    "\n",
    "Ocean colour data is also vital to understand climate change — ocean colour is one of the Essential Climate Variables listed by the World Meteorological Organization to detect biological activity in the ocean’s surface layer. Phytoplankton take up carbon dioxide (CO$_{2}$) during photosynthesis, making them important carbon sinks. Ocean colour data can be used to monitor the annual global uptake of CO$_{2}$ by phytoplankton on a global scale. Using this data we can study the wider Earth system, for instance the El Niño/La Niña phenomena and how these impacts the ocean ecosystem.\n",
    "\n",
    "Beyond climate, ocean colour data is also useful to look at more sporadic events. OLCI data can be used track sediment transport, monitor coastal water quality and track and forecast harmful algal blooms that are a danger to humans, marine/freshwater life and aquaculture.\n",
    "\n",
    "The global picture of ocean ecosystems provided by ocean colour data can guide sustainable marine resource management and support reporting obligations of the European Union's legislation within Marine Strategy Framework Directive and Water Framework Directive, the goal of which is to achieve or maintain Good Environmental Status of the seas by the year 2020\n",
    "\n",
    "Further information on the sensor and its data can be found at [http://sral.eumetsat.int](http://sral.eumetsat.int) and in the [Sentinel-3 knowledge base](https://eumetsatspace.atlassian.net/wiki/spaces/SEN3/overview).\n",
    "\n",
    "<hr>\n",
    "\n",
    "### Module outline\n",
    "\n",
    "The **learn-sral** module consists of a collection of Python-based Jupyter notebooks designed to demonstrate the capability of the SAR Radar Altimeter (SRAL), carried by the Sentinel-3 satellites, and to help users begin to work with its data at level-1 and level-2. The module will introduce you to:\n",
    "\n",
    "* the specifics of the SRAL sensor\n",
    "* the ways in which you can access SRAL data\n",
    "* the parameters that SRAL provides at level-1 and level-2\n",
    "* approaches to working with SRAL data in common use cases\n",
    "\n",
    "<hr>\n",
    "\n",
    "### How to use this material\n",
    "\n",
    "This module is based around a series of [Jupyter Notebooks](https://jupyter.org/). These support high-level interactive learning by allowing us to combine code, text descriptions and data visualisations. If you have not worked with Jupyter Notebooks before, please look at the [Introduction to Python and Project Jupyter](./Intro_to_Python_and_Jupyter_WIP.ipynb) module to get a short introduction to their usage and benefits. Refer to this modules **README** for further information on how to set up Jupyter.\n",
    "\n",
    "This module is split in to two parts, designed for:\n",
    "* <font color=\"#229954\">**introductory users**</font>, who have basic knowledge of Python and are new to using SRAL data\n",
    "* <font color=\"#DC7633\">**advanced users**</font>, who may be looking into more advanced use cases for the data.\n",
    "\n",
    "There is a suggested order in which to access the notebooks, and pre-requisites where applicable are listed at the top of each notebook. However, not all notebooks may be relevant for every user, so we have tried to make each one as self contained as possible.\n",
    "\n",
    "<hr>\n",
    "\n",
    "### Learning outcomes\n",
    "\n",
    "From this module, you can expect to learn:\n",
    "* How to access SRAL data from both the EUMETSAT data services, and WEkEO\n",
    "* The general file structure of SRAL products, and how to read them using Python\n",
    "* How SRAL captures waveforms, and how these are used to derive geophysical products\n",
    "* How to visualise SRAL data products, applying appropriate flags and quality levels\n",
    "* The limitations and uncertainties associated with SRAL products\n",
    "\n",
    "<hr>"
   ]
  },
  {
   "cell_type": "markdown",
   "metadata": {},
   "source": [
    "<div class=\"alert alert-info\" role=\"alert\">\n",
    "\n",
    "## <a id='TOC_TOP'></a>Contents\n",
    "\n",
    "</div>\n",
    "\n",
    "This modules offers notebooks for introductory and advanced uses of SRAL data.\n",
    "\n",
    "<h3>SRAL <font color=\"#229954\"> introductory</font> notebooks.</h3>\n",
    "\n",
    " These resources will introduce you to the fundamentals of SRAL<br>\n",
    " * [1.1 Accessing SRAL data](./1_SRAL_introductory/1_1_SRAL_data_access.ipynb)\n",
    " * [1.2 Understanding SRAL product structure](./1_SRAL_introductory/1_2_SRAL_file_structure.ipynb)\n",
    " * [1.3 Determining SRAL product coverage](./1_SRAL_introductory/1_3_SRAL_coverage.ipynb)\n",
    " * [1.4 SRAL waveforms](./1_SRAL_introductory/1_4_SRAL_waveforms.ipynb)\n",
    " * [1.5 SRAL sea-level anomalies](./1_SRAL_introductory/1_5_SRAL_SLA.ipynb)\n",
    " * [1.6 SRAL significant wave height](./1_SRAL_introductory/1_6_SRAL_SWH.ipynb)\n",
    " * [1.7 SRAL wind speed](./1_SRAL_introductory/1_7_SRAL_WS.ipynb)\n",
    "  \n",
    "<h3>SRAL <font color=\"#DC7633\"> advanced</font> notebooks</h3>\n",
    " \n",
    " These resources build on the fundamentals, covering more advanced uses of SRAL.<br>\n",
    " * [2.1 Advanced SRAL data access with the EUMDAC client](./2_SRAL_advanced/2_1_SRAL_advanced_data_access_eumdac.ipynb)\n",
    " * [2.2 Advanced SRAL data access with the WEkEO HDA client](./2_SRAL_advanced/2_2_SRAL_advanced_data_access_hda.ipynb)\n",
    " * more coming shortly..."
   ]
  },
  {
   "cell_type": "markdown",
   "metadata": {},
   "source": [
    "<hr>\n",
    "<a href=\"https://gitlab.eumetsat.int/eumetlab/ocean\">View on GitLab</a> | <a href=\"https://training.eumetsat.int/\">EUMETSAT Training</a> | <a href=mailto:ops@eumetsat.int>Contact helpdesk for support </a> | <a href=mailto:Copernicus.training@eumetsat.int>Contact our training team to collaborate on and reuse this material</a></span></p>"
   ]
  }
 ],
 "metadata": {
  "kernelspec": {
   "display_name": "Python 3 (ipykernel)",
   "language": "python",
   "name": "python3"
  },
  "language_info": {
   "codemirror_mode": {
    "name": "ipython",
    "version": 3
   },
   "file_extension": ".py",
   "mimetype": "text/x-python",
   "name": "python",
   "nbconvert_exporter": "python",
   "pygments_lexer": "ipython3",
   "version": "3.8.12"
  }
 },
 "nbformat": 4,
 "nbformat_minor": 4
}
